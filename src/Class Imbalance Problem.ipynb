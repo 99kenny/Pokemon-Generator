{
 "cells": [
  {
   "cell_type": "code",
   "execution_count": 105,
   "metadata": {},
   "outputs": [],
   "source": [
    "import matplotlib.pyplot as plt\n",
    "import pandas as pd\n",
    "import numpy as np\n",
    "\n",
    "import torch\n",
    "from torch import nn\n",
    "from transformers import CLIPTextModel, CLIPTokenizer\n"
   ]
  },
  {
   "cell_type": "code",
   "execution_count": 106,
   "metadata": {},
   "outputs": [],
   "source": [
    "df = pd.read_csv(f'dataset/pokemon_preprocessed.csv')\n",
    "types = df[['name','type1']]\n",
    "prompts = pd.read_csv(f'dataset/pokemon_prompts.csv')\n",
    "df = pd.merge(left = types, right=prompts, how = 'inner', on='name')"
   ]
  },
  {
   "cell_type": "code",
   "execution_count": 107,
   "metadata": {},
   "outputs": [
    {
     "data": {
      "text/html": [
       "<div>\n",
       "<style scoped>\n",
       "    .dataframe tbody tr th:only-of-type {\n",
       "        vertical-align: middle;\n",
       "    }\n",
       "\n",
       "    .dataframe tbody tr th {\n",
       "        vertical-align: top;\n",
       "    }\n",
       "\n",
       "    .dataframe thead th {\n",
       "        text-align: right;\n",
       "    }\n",
       "</style>\n",
       "<table border=\"1\" class=\"dataframe\">\n",
       "  <thead>\n",
       "    <tr style=\"text-align: right;\">\n",
       "      <th></th>\n",
       "      <th>name</th>\n",
       "      <th>type1</th>\n",
       "      <th>prompts</th>\n",
       "    </tr>\n",
       "  </thead>\n",
       "  <tbody>\n",
       "    <tr>\n",
       "      <th>0</th>\n",
       "      <td>Bulbasaur</td>\n",
       "      <td>grass</td>\n",
       "      <td>['grass-type', 'starter', 'plant-like creature...</td>\n",
       "    </tr>\n",
       "    <tr>\n",
       "      <th>1</th>\n",
       "      <td>Ivysaur</td>\n",
       "      <td>grass</td>\n",
       "      <td>['leafy', 'bulb', 'evolved form', 'plant-like'...</td>\n",
       "    </tr>\n",
       "    <tr>\n",
       "      <th>2</th>\n",
       "      <td>Venusaur</td>\n",
       "      <td>grass</td>\n",
       "      <td>['bulbous', 'leafy', 'proud', 'majestic', 'her...</td>\n",
       "    </tr>\n",
       "    <tr>\n",
       "      <th>3</th>\n",
       "      <td>Charmander</td>\n",
       "      <td>fire</td>\n",
       "      <td>['fire-breathing', 'tail-wagging', 'salamander...</td>\n",
       "    </tr>\n",
       "    <tr>\n",
       "      <th>4</th>\n",
       "      <td>Charmeleon</td>\n",
       "      <td>fire</td>\n",
       "      <td>['Fire-breathing', 'Scaly', 'Flame-tipped tail...</td>\n",
       "    </tr>\n",
       "    <tr>\n",
       "      <th>...</th>\n",
       "      <td>...</td>\n",
       "      <td>...</td>\n",
       "      <td>...</td>\n",
       "    </tr>\n",
       "    <tr>\n",
       "      <th>775</th>\n",
       "      <td>Celesteela</td>\n",
       "      <td>steel</td>\n",
       "      <td>['Legendary', 'Gigantic', 'Jet-powered', 'Stee...</td>\n",
       "    </tr>\n",
       "    <tr>\n",
       "      <th>776</th>\n",
       "      <td>Kartana</td>\n",
       "      <td>grass</td>\n",
       "      <td>['Ultra Beast', 'Legendary', 'Steel-type', 'Bl...</td>\n",
       "    </tr>\n",
       "    <tr>\n",
       "      <th>777</th>\n",
       "      <td>Guzzlord</td>\n",
       "      <td>dark</td>\n",
       "      <td>['gargantuan', 'abyssal', 'ravenous', 'shadowy...</td>\n",
       "    </tr>\n",
       "    <tr>\n",
       "      <th>778</th>\n",
       "      <td>Necrozma</td>\n",
       "      <td>psychic</td>\n",
       "      <td>['Legendary', 'Mysterious', 'Radiant', 'Alien-...</td>\n",
       "    </tr>\n",
       "    <tr>\n",
       "      <th>779</th>\n",
       "      <td>Magearna</td>\n",
       "      <td>steel</td>\n",
       "      <td>['mechanical', 'metallic', 'sparkling', 'artif...</td>\n",
       "    </tr>\n",
       "  </tbody>\n",
       "</table>\n",
       "<p>780 rows × 3 columns</p>\n",
       "</div>"
      ],
      "text/plain": [
       "           name    type1                                            prompts\n",
       "0     Bulbasaur    grass  ['grass-type', 'starter', 'plant-like creature...\n",
       "1       Ivysaur    grass  ['leafy', 'bulb', 'evolved form', 'plant-like'...\n",
       "2      Venusaur    grass  ['bulbous', 'leafy', 'proud', 'majestic', 'her...\n",
       "3    Charmander     fire  ['fire-breathing', 'tail-wagging', 'salamander...\n",
       "4    Charmeleon     fire  ['Fire-breathing', 'Scaly', 'Flame-tipped tail...\n",
       "..          ...      ...                                                ...\n",
       "775  Celesteela    steel  ['Legendary', 'Gigantic', 'Jet-powered', 'Stee...\n",
       "776     Kartana    grass  ['Ultra Beast', 'Legendary', 'Steel-type', 'Bl...\n",
       "777    Guzzlord     dark  ['gargantuan', 'abyssal', 'ravenous', 'shadowy...\n",
       "778    Necrozma  psychic  ['Legendary', 'Mysterious', 'Radiant', 'Alien-...\n",
       "779    Magearna    steel  ['mechanical', 'metallic', 'sparkling', 'artif...\n",
       "\n",
       "[780 rows x 3 columns]"
      ]
     },
     "execution_count": 107,
     "metadata": {},
     "output_type": "execute_result"
    }
   ],
   "source": [
    "df"
   ]
  },
  {
   "cell_type": "code",
   "execution_count": 108,
   "metadata": {},
   "outputs": [
    {
     "data": {
      "text/plain": [
       "(array([127., 186., 130.,  38.,  46.,  79.,  41.,  50.,  56.,  27.]),\n",
       " array([ 0. ,  1.7,  3.4,  5.1,  6.8,  8.5, 10.2, 11.9, 13.6, 15.3, 17. ]),\n",
       " <BarContainer object of 10 artists>)"
      ]
     },
     "execution_count": 108,
     "metadata": {},
     "output_type": "execute_result"
    },
    {
     "data": {
      "image/png": "[encoded data removed]",
      "text/plain": [
       "<Figure size 2000x300 with 1 Axes>"
      ]
     },
     "metadata": {},
     "output_type": "display_data"
    }
   ],
   "source": [
    "plt.figure(figsize=(20,3))\n",
    "plt.hist(df['type1'])"
   ]
  },
  {
   "cell_type": "code",
   "execution_count": 109,
   "metadata": {},
   "outputs": [],
   "source": [
    "tokenizer = CLIPTokenizer.from_pretrained(\"xyn-ai/anything-v4.0\", subfolder=\"tokenizer\", revision=None)\n",
    "text_encoder = CLIPTextModel.from_pretrained(\"xyn-ai/anything-v4.0\", subfolder=\"text_encoder\", revision=None)"
   ]
  },
  {
   "cell_type": "code",
   "execution_count": 110,
   "metadata": {},
   "outputs": [
    {
     "data": {
      "text/plain": [
       "array(['grass', 'fire', 'water', 'bug', 'normal', 'poison', 'electric',\n",
       "       'fairy', 'fighting', 'psychic', 'ghost', 'rock', 'ground', 'ice',\n",
       "       'dragon', 'dark', 'steel', 'flying'], dtype=object)"
      ]
     },
     "execution_count": 110,
     "metadata": {},
     "output_type": "execute_result"
    }
   ],
   "source": [
    "category = df['type1'].unique()\n",
    "category"
   ]
  },
  {
   "cell_type": "code",
   "execution_count": 111,
   "metadata": {},
   "outputs": [],
   "source": [
    "input_ids = tokenizer(f'image of fire type pokemon',max_length=tokenizer.model_max_length, padding=\"max_length\", truncation=True, return_tensors=\"pt\")\n",
    "attention_mask = input_ids.attention_mask\n",
    "input_ids = input_ids.input_ids"
   ]
  },
  {
   "cell_type": "code",
   "execution_count": 112,
   "metadata": {},
   "outputs": [
    {
     "data": {
      "text/plain": [
       "torch.Size([1, 77, 768])"
      ]
     },
     "execution_count": 112,
     "metadata": {},
     "output_type": "execute_result"
    }
   ],
   "source": [
    "encoder_hidden_states = text_encoder(input_ids)[0]\n",
    "attention_mask\n",
    "encoder_hidden_states.shape"
   ]
  },
  {
   "cell_type": "code",
   "execution_count": 113,
   "metadata": {},
   "outputs": [],
   "source": [
    "result = encoder_hidden_states* attention_mask.reshape(1,77,1)"
   ]
  },
  {
   "cell_type": "code",
   "execution_count": 114,
   "metadata": {},
   "outputs": [
    {
     "data": {
      "text/plain": [
       "torch.Size([1, 768])"
      ]
     },
     "execution_count": 114,
     "metadata": {},
     "output_type": "execute_result"
    }
   ],
   "source": [
    "result.mean(axis = 1).shape\n"
   ]
  },
  {
   "cell_type": "code",
   "execution_count": 115,
   "metadata": {},
   "outputs": [],
   "source": [
    "category_latent_vectors =[]\n",
    "for c in category:\n",
    "    template_prompt = f'A photo of {c} pokemon'\n",
    "    tokenized= tokenizer(template_prompt,max_length=tokenizer.model_max_length, padding=\"max_length\", truncation=True, return_tensors=\"pt\")\n",
    "    attention_mask = tokenized.attention_mask\n",
    "    input_ids = tokenized.input_ids\n",
    "    encoder_hidden_states = text_encoder(input_ids)[0]\n",
    "    result = encoder_hidden_states* attention_mask.reshape(1,77,1)\n",
    "    result = result.mean(axis = 1).reshape(-1)\n",
    "    category_latent_vectors.append(result)"
   ]
  },
  {
   "cell_type": "code",
   "execution_count": 116,
   "metadata": {},
   "outputs": [
    {
     "data": {
      "text/plain": [
       "18"
      ]
     },
     "execution_count": 116,
     "metadata": {},
     "output_type": "execute_result"
    }
   ],
   "source": [
    "len(category_latent_vectors)"
   ]
  },
  {
   "cell_type": "code",
   "execution_count": 117,
   "metadata": {},
   "outputs": [],
   "source": [
    "correct = 0\n",
    "pred = []\n",
    "for prompt, ptype in zip(df['prompts'],df['type1']):\n",
    "    input = prompt.replace(\"'\",\"\")[1:-1]\n",
    "    tokenized= tokenizer(input,max_length=tokenizer.model_max_length, padding=\"max_length\", truncation=True, return_tensors=\"pt\")\n",
    "    attention_mask = tokenized.attention_mask\n",
    "    input_ids = tokenized.input_ids\n",
    "    encoder_hidden_states = text_encoder(input_ids)[0]\n",
    "    result = encoder_hidden_states* attention_mask.reshape(1,77,1)\n",
    "    result = result.mean(axis = 1).reshape(-1)\n",
    "\n",
    "    temp = []\n",
    "    for category_latent_vector in category_latent_vectors:\n",
    "        temp.append(torch.matmul(result, category_latent_vector).detach().numpy())\n",
    "    \n",
    "    pred.append(np.argmax(temp))\n",
    "    if(category[np.argmax(temp)] == ptype):\n",
    "        correct += 1\n",
    "    "
   ]
  },
  {
   "cell_type": "code",
   "execution_count": 118,
   "metadata": {},
   "outputs": [
    {
     "data": {
      "text/plain": [
       "0.5948717948717949"
      ]
     },
     "execution_count": 118,
     "metadata": {},
     "output_type": "execute_result"
    }
   ],
   "source": [
    "correct / len(df)"
   ]
  }
 ],
 "metadata": {
  "kernelspec": {
   "display_name": "pokemon",
   "language": "python",
   "name": "python3"
  },
  "language_info": {
   "codemirror_mode": {
    "name": "ipython",
    "version": 3
   },
   "file_extension": ".py",
   "mimetype": "text/x-python",
   "name": "python",
   "nbconvert_exporter": "python",
   "pygments_lexer": "ipython3",
   "version": "3.8.18"
  }
 },
 "nbformat": 4,
 "nbformat_minor": 2
}
